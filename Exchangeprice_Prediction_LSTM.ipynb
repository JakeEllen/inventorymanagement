{
  "nbformat": 4,
  "nbformat_minor": 0,
  "metadata": {
    "colab": {
      "provenance": [],
      "collapsed_sections": []
    },
    "kernelspec": {
      "name": "python3",
      "display_name": "Python 3"
    },
    "language_info": {
      "name": "python"
    },
    "accelerator": "GPU"
  },
  "cells": [
    {
      "cell_type": "code",
      "execution_count": 1,
      "metadata": {
        "id": "ie6L3y3-opoW"
      },
      "outputs": [],
      "source": [
        "from IPython.core.interactiveshell import InteractiveShell\n",
        "InteractiveShell.ast_node_interactivity = \"all\""
      ]
    },
    {
      "cell_type": "code",
      "source": [
        "import numpy\n",
        "import matplotlib.pyplot as plt\n",
        "import pandas as pd\n",
        "import math\n",
        "from keras.models import Sequential\n",
        "from keras.layers import Dense\n",
        "from keras.layers import LSTM\n",
        "from sklearn.preprocessing import MinMaxScaler\n",
        "from sklearn.metrics import mean_squared_error\n",
        "import tensorflow as tf"
      ],
      "metadata": {
        "id": "qYEFHKiWpSgp"
      },
      "execution_count": 2,
      "outputs": []
    },
    {
      "cell_type": "code",
      "source": [
        "# fix random seed for reproducibility\n",
        "numpy.random.seed(7)"
      ],
      "metadata": {
        "id": "QZK4SQdvpcw1"
      },
      "execution_count": 3,
      "outputs": []
    },
    {
      "cell_type": "code",
      "source": [
        "from google.colab import drive \n",
        "drive.mount('/content/gdrive')"
      ],
      "metadata": {
        "colab": {
          "base_uri": "https://localhost:8080/"
        },
        "id": "ddSlJjR8phUM",
        "outputId": "795f9157-60ce-4a43-d5c9-bab6e7d5baff"
      },
      "execution_count": 4,
      "outputs": [
        {
          "output_type": "stream",
          "name": "stdout",
          "text": [
            "Mounted at /content/gdrive\n"
          ]
        }
      ]
    },
    {
      "cell_type": "code",
      "source": [
        "#dataset \n",
        "dataframe=pd.read_excel('gdrive/My Drive/Exchange Rate Euro-INR_New.xlsx',usecols=[1])\n",
        "dataframe.head()\n",
        "dataset = dataframe.values\n",
        "dataset = dataset.astype('float32')"
      ],
      "metadata": {
        "colab": {
          "base_uri": "https://localhost:8080/",
          "height": 206
        },
        "id": "iuNEMhHdpmOD",
        "outputId": "e37fea41-b096-4a81-cf9a-70df49e768f3"
      },
      "execution_count": 5,
      "outputs": [
        {
          "output_type": "execute_result",
          "data": {
            "text/plain": [
              "     Price\n",
              "0  85.9750\n",
              "1  85.9750\n",
              "2  85.9750\n",
              "3  86.4025\n",
              "4  86.4880"
            ],
            "text/html": [
              "\n",
              "  <div id=\"df-711bfac5-31c4-4b7f-b1ca-3371e351b853\">\n",
              "    <div class=\"colab-df-container\">\n",
              "      <div>\n",
              "<style scoped>\n",
              "    .dataframe tbody tr th:only-of-type {\n",
              "        vertical-align: middle;\n",
              "    }\n",
              "\n",
              "    .dataframe tbody tr th {\n",
              "        vertical-align: top;\n",
              "    }\n",
              "\n",
              "    .dataframe thead th {\n",
              "        text-align: right;\n",
              "    }\n",
              "</style>\n",
              "<table border=\"1\" class=\"dataframe\">\n",
              "  <thead>\n",
              "    <tr style=\"text-align: right;\">\n",
              "      <th></th>\n",
              "      <th>Price</th>\n",
              "    </tr>\n",
              "  </thead>\n",
              "  <tbody>\n",
              "    <tr>\n",
              "      <th>0</th>\n",
              "      <td>85.9750</td>\n",
              "    </tr>\n",
              "    <tr>\n",
              "      <th>1</th>\n",
              "      <td>85.9750</td>\n",
              "    </tr>\n",
              "    <tr>\n",
              "      <th>2</th>\n",
              "      <td>85.9750</td>\n",
              "    </tr>\n",
              "    <tr>\n",
              "      <th>3</th>\n",
              "      <td>86.4025</td>\n",
              "    </tr>\n",
              "    <tr>\n",
              "      <th>4</th>\n",
              "      <td>86.4880</td>\n",
              "    </tr>\n",
              "  </tbody>\n",
              "</table>\n",
              "</div>\n",
              "      <button class=\"colab-df-convert\" onclick=\"convertToInteractive('df-711bfac5-31c4-4b7f-b1ca-3371e351b853')\"\n",
              "              title=\"Convert this dataframe to an interactive table.\"\n",
              "              style=\"display:none;\">\n",
              "        \n",
              "  <svg xmlns=\"http://www.w3.org/2000/svg\" height=\"24px\"viewBox=\"0 0 24 24\"\n",
              "       width=\"24px\">\n",
              "    <path d=\"M0 0h24v24H0V0z\" fill=\"none\"/>\n",
              "    <path d=\"M18.56 5.44l.94 2.06.94-2.06 2.06-.94-2.06-.94-.94-2.06-.94 2.06-2.06.94zm-11 1L8.5 8.5l.94-2.06 2.06-.94-2.06-.94L8.5 2.5l-.94 2.06-2.06.94zm10 10l.94 2.06.94-2.06 2.06-.94-2.06-.94-.94-2.06-.94 2.06-2.06.94z\"/><path d=\"M17.41 7.96l-1.37-1.37c-.4-.4-.92-.59-1.43-.59-.52 0-1.04.2-1.43.59L10.3 9.45l-7.72 7.72c-.78.78-.78 2.05 0 2.83L4 21.41c.39.39.9.59 1.41.59.51 0 1.02-.2 1.41-.59l7.78-7.78 2.81-2.81c.8-.78.8-2.07 0-2.86zM5.41 20L4 18.59l7.72-7.72 1.47 1.35L5.41 20z\"/>\n",
              "  </svg>\n",
              "      </button>\n",
              "      \n",
              "  <style>\n",
              "    .colab-df-container {\n",
              "      display:flex;\n",
              "      flex-wrap:wrap;\n",
              "      gap: 12px;\n",
              "    }\n",
              "\n",
              "    .colab-df-convert {\n",
              "      background-color: #E8F0FE;\n",
              "      border: none;\n",
              "      border-radius: 50%;\n",
              "      cursor: pointer;\n",
              "      display: none;\n",
              "      fill: #1967D2;\n",
              "      height: 32px;\n",
              "      padding: 0 0 0 0;\n",
              "      width: 32px;\n",
              "    }\n",
              "\n",
              "    .colab-df-convert:hover {\n",
              "      background-color: #E2EBFA;\n",
              "      box-shadow: 0px 1px 2px rgba(60, 64, 67, 0.3), 0px 1px 3px 1px rgba(60, 64, 67, 0.15);\n",
              "      fill: #174EA6;\n",
              "    }\n",
              "\n",
              "    [theme=dark] .colab-df-convert {\n",
              "      background-color: #3B4455;\n",
              "      fill: #D2E3FC;\n",
              "    }\n",
              "\n",
              "    [theme=dark] .colab-df-convert:hover {\n",
              "      background-color: #434B5C;\n",
              "      box-shadow: 0px 1px 3px 1px rgba(0, 0, 0, 0.15);\n",
              "      filter: drop-shadow(0px 1px 2px rgba(0, 0, 0, 0.3));\n",
              "      fill: #FFFFFF;\n",
              "    }\n",
              "  </style>\n",
              "\n",
              "      <script>\n",
              "        const buttonEl =\n",
              "          document.querySelector('#df-711bfac5-31c4-4b7f-b1ca-3371e351b853 button.colab-df-convert');\n",
              "        buttonEl.style.display =\n",
              "          google.colab.kernel.accessAllowed ? 'block' : 'none';\n",
              "\n",
              "        async function convertToInteractive(key) {\n",
              "          const element = document.querySelector('#df-711bfac5-31c4-4b7f-b1ca-3371e351b853');\n",
              "          const dataTable =\n",
              "            await google.colab.kernel.invokeFunction('convertToInteractive',\n",
              "                                                     [key], {});\n",
              "          if (!dataTable) return;\n",
              "\n",
              "          const docLinkHtml = 'Like what you see? Visit the ' +\n",
              "            '<a target=\"_blank\" href=https://colab.research.google.com/notebooks/data_table.ipynb>data table notebook</a>'\n",
              "            + ' to learn more about interactive tables.';\n",
              "          element.innerHTML = '';\n",
              "          dataTable['output_type'] = 'display_data';\n",
              "          await google.colab.output.renderOutput(dataTable, element);\n",
              "          const docLink = document.createElement('div');\n",
              "          docLink.innerHTML = docLinkHtml;\n",
              "          element.appendChild(docLink);\n",
              "        }\n",
              "      </script>\n",
              "    </div>\n",
              "  </div>\n",
              "  "
            ]
          },
          "metadata": {},
          "execution_count": 5
        }
      ]
    },
    {
      "cell_type": "code",
      "source": [
        "# normalize the dataset\n",
        "scaler = MinMaxScaler(feature_range=(0, 1))\n",
        "dataset = scaler.fit_transform(dataset)"
      ],
      "metadata": {
        "id": "jcW4nOmJs26F"
      },
      "execution_count": 6,
      "outputs": []
    },
    {
      "cell_type": "code",
      "source": [
        "# split into train and test sets\n",
        "train_size = int(len(dataset) * 0.79)\n",
        "test_size = len(dataset) - train_size\n",
        "train, test = dataset[0:train_size,:], dataset[train_size:len(dataset),:]\n",
        "print(len(train), len(test))"
      ],
      "metadata": {
        "colab": {
          "base_uri": "https://localhost:8080/"
        },
        "id": "5-P1GYqWs79t",
        "outputId": "7aa572ec-2f6f-41dd-e5ab-7227727bb1b6"
      },
      "execution_count": 7,
      "outputs": [
        {
          "output_type": "stream",
          "name": "stdout",
          "text": [
            "110 30\n"
          ]
        }
      ]
    },
    {
      "cell_type": "code",
      "source": [
        "# convert an array of values into a dataset matrix\n",
        "def create_dataset(dataset, look_back=1):\n",
        "\tdataX, dataY = [], []\n",
        "\tfor i in range(len(dataset)-look_back-1):\n",
        "\t\ta = dataset[i:(i+look_back), 0]\n",
        "\t\tdataX.append(a)\n",
        "\t\tdataY.append(dataset[i + look_back, 0])\n",
        "\treturn numpy.array(dataX), numpy.array(dataY)"
      ],
      "metadata": {
        "id": "tVrMLkoEtCdH"
      },
      "execution_count": 8,
      "outputs": []
    },
    {
      "cell_type": "code",
      "source": [
        "# reshape into X=t and Y=t+1\n",
        "look_back = 1\n",
        "trainX, trainY = create_dataset(train, look_back)\n",
        "testX, testY = create_dataset(test, look_back)"
      ],
      "metadata": {
        "id": "iDMEGfiftmJF"
      },
      "execution_count": 9,
      "outputs": []
    },
    {
      "cell_type": "code",
      "source": [
        "# reshape input to be [samples, time steps, features]\n",
        "trainX = numpy.reshape(trainX, (trainX.shape[0], 1, trainX.shape[1]))\n",
        "testX = numpy.reshape(testX, (testX.shape[0], 1, testX.shape[1]))"
      ],
      "metadata": {
        "id": "fZRH_KXSttkW"
      },
      "execution_count": 10,
      "outputs": []
    },
    {
      "cell_type": "code",
      "source": [
        "# create and fit the LSTM network\n",
        "model = Sequential()\n",
        "model.add(LSTM(4, input_shape=(1, look_back)))\n",
        "model.add(Dense(1))\n",
        "model.compile(loss='mean_squared_error', optimizer='adam')\n",
        "model.fit(trainX, trainY, epochs=100, batch_size=1, verbose=2)"
      ],
      "metadata": {
        "colab": {
          "base_uri": "https://localhost:8080/"
        },
        "id": "nDMd8ap1uJV1",
        "outputId": "0f908389-6de7-45d6-83f4-b966eb9e91c9"
      },
      "execution_count": 11,
      "outputs": [
        {
          "output_type": "stream",
          "name": "stdout",
          "text": [
            "Epoch 1/100\n",
            "108/108 - 6s - loss: 0.2924 - 6s/epoch - 54ms/step\n",
            "Epoch 2/100\n",
            "108/108 - 0s - loss: 0.1442 - 473ms/epoch - 4ms/step\n",
            "Epoch 3/100\n",
            "108/108 - 0s - loss: 0.0760 - 412ms/epoch - 4ms/step\n",
            "Epoch 4/100\n",
            "108/108 - 0s - loss: 0.0520 - 230ms/epoch - 2ms/step\n",
            "Epoch 5/100\n",
            "108/108 - 0s - loss: 0.0435 - 364ms/epoch - 3ms/step\n",
            "Epoch 6/100\n",
            "108/108 - 0s - loss: 0.0388 - 468ms/epoch - 4ms/step\n",
            "Epoch 7/100\n",
            "108/108 - 0s - loss: 0.0347 - 310ms/epoch - 3ms/step\n",
            "Epoch 8/100\n",
            "108/108 - 0s - loss: 0.0309 - 236ms/epoch - 2ms/step\n",
            "Epoch 9/100\n",
            "108/108 - 0s - loss: 0.0273 - 409ms/epoch - 4ms/step\n",
            "Epoch 10/100\n",
            "108/108 - 0s - loss: 0.0237 - 427ms/epoch - 4ms/step\n",
            "Epoch 11/100\n",
            "108/108 - 0s - loss: 0.0205 - 243ms/epoch - 2ms/step\n",
            "Epoch 12/100\n",
            "108/108 - 0s - loss: 0.0175 - 239ms/epoch - 2ms/step\n",
            "Epoch 13/100\n",
            "108/108 - 0s - loss: 0.0148 - 232ms/epoch - 2ms/step\n",
            "Epoch 14/100\n",
            "108/108 - 0s - loss: 0.0125 - 235ms/epoch - 2ms/step\n",
            "Epoch 15/100\n",
            "108/108 - 0s - loss: 0.0106 - 234ms/epoch - 2ms/step\n",
            "Epoch 16/100\n",
            "108/108 - 0s - loss: 0.0090 - 232ms/epoch - 2ms/step\n",
            "Epoch 17/100\n",
            "108/108 - 0s - loss: 0.0077 - 238ms/epoch - 2ms/step\n",
            "Epoch 18/100\n",
            "108/108 - 0s - loss: 0.0065 - 237ms/epoch - 2ms/step\n",
            "Epoch 19/100\n",
            "108/108 - 0s - loss: 0.0058 - 227ms/epoch - 2ms/step\n",
            "Epoch 20/100\n",
            "108/108 - 0s - loss: 0.0053 - 251ms/epoch - 2ms/step\n",
            "Epoch 21/100\n",
            "108/108 - 0s - loss: 0.0049 - 242ms/epoch - 2ms/step\n",
            "Epoch 22/100\n",
            "108/108 - 0s - loss: 0.0046 - 233ms/epoch - 2ms/step\n",
            "Epoch 23/100\n",
            "108/108 - 0s - loss: 0.0045 - 241ms/epoch - 2ms/step\n",
            "Epoch 24/100\n",
            "108/108 - 0s - loss: 0.0043 - 228ms/epoch - 2ms/step\n",
            "Epoch 25/100\n",
            "108/108 - 0s - loss: 0.0043 - 234ms/epoch - 2ms/step\n",
            "Epoch 26/100\n",
            "108/108 - 0s - loss: 0.0043 - 233ms/epoch - 2ms/step\n",
            "Epoch 27/100\n",
            "108/108 - 0s - loss: 0.0043 - 236ms/epoch - 2ms/step\n",
            "Epoch 28/100\n",
            "108/108 - 0s - loss: 0.0042 - 234ms/epoch - 2ms/step\n",
            "Epoch 29/100\n",
            "108/108 - 0s - loss: 0.0043 - 319ms/epoch - 3ms/step\n",
            "Epoch 30/100\n",
            "108/108 - 0s - loss: 0.0042 - 251ms/epoch - 2ms/step\n",
            "Epoch 31/100\n",
            "108/108 - 0s - loss: 0.0042 - 234ms/epoch - 2ms/step\n",
            "Epoch 32/100\n",
            "108/108 - 0s - loss: 0.0043 - 333ms/epoch - 3ms/step\n",
            "Epoch 33/100\n",
            "108/108 - 0s - loss: 0.0042 - 250ms/epoch - 2ms/step\n",
            "Epoch 34/100\n",
            "108/108 - 0s - loss: 0.0044 - 235ms/epoch - 2ms/step\n",
            "Epoch 35/100\n",
            "108/108 - 0s - loss: 0.0042 - 329ms/epoch - 3ms/step\n",
            "Epoch 36/100\n",
            "108/108 - 0s - loss: 0.0043 - 247ms/epoch - 2ms/step\n",
            "Epoch 37/100\n",
            "108/108 - 0s - loss: 0.0042 - 230ms/epoch - 2ms/step\n",
            "Epoch 38/100\n",
            "108/108 - 0s - loss: 0.0042 - 243ms/epoch - 2ms/step\n",
            "Epoch 39/100\n",
            "108/108 - 0s - loss: 0.0043 - 232ms/epoch - 2ms/step\n",
            "Epoch 40/100\n",
            "108/108 - 0s - loss: 0.0043 - 227ms/epoch - 2ms/step\n",
            "Epoch 41/100\n",
            "108/108 - 0s - loss: 0.0043 - 246ms/epoch - 2ms/step\n",
            "Epoch 42/100\n",
            "108/108 - 0s - loss: 0.0043 - 231ms/epoch - 2ms/step\n",
            "Epoch 43/100\n",
            "108/108 - 0s - loss: 0.0042 - 228ms/epoch - 2ms/step\n",
            "Epoch 44/100\n",
            "108/108 - 0s - loss: 0.0043 - 224ms/epoch - 2ms/step\n",
            "Epoch 45/100\n",
            "108/108 - 0s - loss: 0.0043 - 247ms/epoch - 2ms/step\n",
            "Epoch 46/100\n",
            "108/108 - 0s - loss: 0.0043 - 237ms/epoch - 2ms/step\n",
            "Epoch 47/100\n",
            "108/108 - 0s - loss: 0.0043 - 235ms/epoch - 2ms/step\n",
            "Epoch 48/100\n",
            "108/108 - 0s - loss: 0.0043 - 234ms/epoch - 2ms/step\n",
            "Epoch 49/100\n",
            "108/108 - 0s - loss: 0.0043 - 250ms/epoch - 2ms/step\n",
            "Epoch 50/100\n",
            "108/108 - 0s - loss: 0.0043 - 239ms/epoch - 2ms/step\n",
            "Epoch 51/100\n",
            "108/108 - 0s - loss: 0.0043 - 237ms/epoch - 2ms/step\n",
            "Epoch 52/100\n",
            "108/108 - 0s - loss: 0.0043 - 228ms/epoch - 2ms/step\n",
            "Epoch 53/100\n",
            "108/108 - 0s - loss: 0.0044 - 237ms/epoch - 2ms/step\n",
            "Epoch 54/100\n",
            "108/108 - 0s - loss: 0.0043 - 248ms/epoch - 2ms/step\n",
            "Epoch 55/100\n",
            "108/108 - 0s - loss: 0.0043 - 243ms/epoch - 2ms/step\n",
            "Epoch 56/100\n",
            "108/108 - 0s - loss: 0.0044 - 234ms/epoch - 2ms/step\n",
            "Epoch 57/100\n",
            "108/108 - 0s - loss: 0.0043 - 242ms/epoch - 2ms/step\n",
            "Epoch 58/100\n",
            "108/108 - 0s - loss: 0.0043 - 242ms/epoch - 2ms/step\n",
            "Epoch 59/100\n",
            "108/108 - 0s - loss: 0.0044 - 231ms/epoch - 2ms/step\n",
            "Epoch 60/100\n",
            "108/108 - 0s - loss: 0.0042 - 233ms/epoch - 2ms/step\n",
            "Epoch 61/100\n",
            "108/108 - 0s - loss: 0.0044 - 235ms/epoch - 2ms/step\n",
            "Epoch 62/100\n",
            "108/108 - 0s - loss: 0.0043 - 253ms/epoch - 2ms/step\n",
            "Epoch 63/100\n",
            "108/108 - 0s - loss: 0.0042 - 232ms/epoch - 2ms/step\n",
            "Epoch 64/100\n",
            "108/108 - 0s - loss: 0.0042 - 227ms/epoch - 2ms/step\n",
            "Epoch 65/100\n",
            "108/108 - 0s - loss: 0.0044 - 227ms/epoch - 2ms/step\n",
            "Epoch 66/100\n",
            "108/108 - 0s - loss: 0.0043 - 245ms/epoch - 2ms/step\n",
            "Epoch 67/100\n",
            "108/108 - 0s - loss: 0.0043 - 237ms/epoch - 2ms/step\n",
            "Epoch 68/100\n",
            "108/108 - 0s - loss: 0.0043 - 235ms/epoch - 2ms/step\n",
            "Epoch 69/100\n",
            "108/108 - 0s - loss: 0.0042 - 224ms/epoch - 2ms/step\n",
            "Epoch 70/100\n",
            "108/108 - 0s - loss: 0.0042 - 242ms/epoch - 2ms/step\n",
            "Epoch 71/100\n",
            "108/108 - 0s - loss: 0.0042 - 234ms/epoch - 2ms/step\n",
            "Epoch 72/100\n",
            "108/108 - 0s - loss: 0.0043 - 228ms/epoch - 2ms/step\n",
            "Epoch 73/100\n",
            "108/108 - 0s - loss: 0.0044 - 230ms/epoch - 2ms/step\n",
            "Epoch 74/100\n",
            "108/108 - 0s - loss: 0.0043 - 229ms/epoch - 2ms/step\n",
            "Epoch 75/100\n",
            "108/108 - 0s - loss: 0.0042 - 253ms/epoch - 2ms/step\n",
            "Epoch 76/100\n",
            "108/108 - 0s - loss: 0.0043 - 233ms/epoch - 2ms/step\n",
            "Epoch 77/100\n",
            "108/108 - 0s - loss: 0.0044 - 226ms/epoch - 2ms/step\n",
            "Epoch 78/100\n",
            "108/108 - 0s - loss: 0.0042 - 223ms/epoch - 2ms/step\n",
            "Epoch 79/100\n",
            "108/108 - 0s - loss: 0.0043 - 242ms/epoch - 2ms/step\n",
            "Epoch 80/100\n",
            "108/108 - 0s - loss: 0.0042 - 233ms/epoch - 2ms/step\n",
            "Epoch 81/100\n",
            "108/108 - 0s - loss: 0.0043 - 227ms/epoch - 2ms/step\n",
            "Epoch 82/100\n",
            "108/108 - 0s - loss: 0.0042 - 230ms/epoch - 2ms/step\n",
            "Epoch 83/100\n",
            "108/108 - 0s - loss: 0.0043 - 240ms/epoch - 2ms/step\n",
            "Epoch 84/100\n",
            "108/108 - 0s - loss: 0.0042 - 246ms/epoch - 2ms/step\n",
            "Epoch 85/100\n",
            "108/108 - 0s - loss: 0.0043 - 226ms/epoch - 2ms/step\n",
            "Epoch 86/100\n",
            "108/108 - 0s - loss: 0.0043 - 222ms/epoch - 2ms/step\n",
            "Epoch 87/100\n",
            "108/108 - 0s - loss: 0.0043 - 236ms/epoch - 2ms/step\n",
            "Epoch 88/100\n",
            "108/108 - 0s - loss: 0.0043 - 236ms/epoch - 2ms/step\n",
            "Epoch 89/100\n",
            "108/108 - 0s - loss: 0.0043 - 229ms/epoch - 2ms/step\n",
            "Epoch 90/100\n",
            "108/108 - 0s - loss: 0.0043 - 221ms/epoch - 2ms/step\n",
            "Epoch 91/100\n",
            "108/108 - 0s - loss: 0.0043 - 229ms/epoch - 2ms/step\n",
            "Epoch 92/100\n",
            "108/108 - 0s - loss: 0.0043 - 245ms/epoch - 2ms/step\n",
            "Epoch 93/100\n",
            "108/108 - 0s - loss: 0.0043 - 237ms/epoch - 2ms/step\n",
            "Epoch 94/100\n",
            "108/108 - 0s - loss: 0.0043 - 233ms/epoch - 2ms/step\n",
            "Epoch 95/100\n",
            "108/108 - 0s - loss: 0.0044 - 226ms/epoch - 2ms/step\n",
            "Epoch 96/100\n",
            "108/108 - 0s - loss: 0.0043 - 236ms/epoch - 2ms/step\n",
            "Epoch 97/100\n",
            "108/108 - 0s - loss: 0.0043 - 235ms/epoch - 2ms/step\n",
            "Epoch 98/100\n",
            "108/108 - 0s - loss: 0.0044 - 226ms/epoch - 2ms/step\n",
            "Epoch 99/100\n",
            "108/108 - 0s - loss: 0.0043 - 234ms/epoch - 2ms/step\n",
            "Epoch 100/100\n",
            "108/108 - 0s - loss: 0.0043 - 242ms/epoch - 2ms/step\n"
          ]
        },
        {
          "output_type": "execute_result",
          "data": {
            "text/plain": [
              "<keras.callbacks.History at 0x7f85b025d0d0>"
            ]
          },
          "metadata": {},
          "execution_count": 11
        }
      ]
    },
    {
      "cell_type": "code",
      "source": [
        "# make predictions\n",
        "trainPredict = model.predict(trainX)\n",
        "testPredict = model.predict(testX)\n",
        "# invert predictions\n",
        "trainPredict = scaler.inverse_transform(trainPredict)\n",
        "trainY = scaler.inverse_transform([trainY])\n",
        "testPredict = scaler.inverse_transform(testPredict)\n",
        "testY = scaler.inverse_transform([testY])\n",
        "# calculate root mean squared error\n",
        "trainScore = math.sqrt(mean_squared_error(trainY[0], trainPredict[:,0]))\n",
        "print('Train Score: %.2f RMSE' % (trainScore))\n",
        "testScore = math.sqrt(mean_squared_error(testY[0], testPredict[:,0]))\n",
        "print('Test Score: %.2f RMSE' % (testScore))"
      ],
      "metadata": {
        "id": "0eLPSSztuUBZ",
        "colab": {
          "base_uri": "https://localhost:8080/"
        },
        "outputId": "ae9fbf57-a347-4205-e96b-9519dc254ca8"
      },
      "execution_count": 12,
      "outputs": [
        {
          "output_type": "stream",
          "name": "stdout",
          "text": [
            "Train Score: 0.27 RMSE\n",
            "Test Score: 0.33 RMSE\n"
          ]
        }
      ]
    },
    {
      "cell_type": "code",
      "source": [
        "import tensorflow as tf"
      ],
      "metadata": {
        "id": "1TL4MC0q_ZAr"
      },
      "execution_count": 13,
      "outputs": []
    },
    {
      "cell_type": "code",
      "source": [
        "import numpy as np"
      ],
      "metadata": {
        "id": "g9d5Poy4NIfK"
      },
      "execution_count": 14,
      "outputs": []
    },
    {
      "cell_type": "code",
      "source": [
        "#Mean absolute Error\n",
        "mae_ =tf.keras.losses.MeanAbsoluteError()\n",
        "mae_= np.round(mae_(testY,testPredict),2)\n",
        "print('LSTM mae:', mae_)"
      ],
      "metadata": {
        "id": "qHKCFJUG-WbM",
        "colab": {
          "base_uri": "https://localhost:8080/"
        },
        "outputId": "932ec801-b38c-4b18-9ed9-6daa23818185"
      },
      "execution_count": 15,
      "outputs": [
        {
          "output_type": "stream",
          "name": "stdout",
          "text": [
            "LSTM mae: 0.89\n"
          ]
        }
      ]
    },
    {
      "cell_type": "code",
      "source": [
        "#Mean absolute percentage error\n",
        "print('LSTM MAPE')\n",
        "np.mean(np.abs((testY - testPredict)/testY))*100"
      ],
      "metadata": {
        "id": "vDtXINq9EmQm",
        "colab": {
          "base_uri": "https://localhost:8080/"
        },
        "outputId": "2ec0d3da-511d-454e-8cf8-b0fb70bce8bf"
      },
      "execution_count": 16,
      "outputs": [
        {
          "output_type": "stream",
          "name": "stdout",
          "text": [
            "LSTM MAPE\n"
          ]
        },
        {
          "output_type": "execute_result",
          "data": {
            "text/plain": [
              "1.047517405054911"
            ]
          },
          "metadata": {},
          "execution_count": 16
        }
      ]
    },
    {
      "cell_type": "code",
      "source": [
        "#Showing the predicted values with actuals\n",
        "df1=pd.DataFrame(trainY)\n",
        "df1.head()\n",
        "df2=pd.DataFrame(testPredict)\n",
        "df2.head(8)\n",
        "#df2=(testPredict)\n",
        "#df = pd.DataFrame(list(zip(df1,df2)), columns =('Actual','Predicted'))\n",
        "#df = pd.DataFrame(zip(df1,df2), columns =('Actual','Predicted'))\n",
        "#df.head()\n",
        "#df.tail()"
      ],
      "metadata": {
        "id": "tn3u8499C0I2",
        "colab": {
          "base_uri": "https://localhost:8080/",
          "height": 457
        },
        "outputId": "61203257-4c07-4bd2-e1f2-b63e57170ab9"
      },
      "execution_count": 17,
      "outputs": [
        {
          "output_type": "execute_result",
          "data": {
            "text/plain": [
              "         0          1        2          3          4          5          6    \\\n",
              "0  85.974996  85.974996  86.4025  86.487999  86.438002  86.407996  86.749497   \n",
              "\n",
              "         7          8          9    ...        98         99         100  \\\n",
              "0  86.749497  86.749497  87.334002  ...  83.977994  83.977994  83.800001   \n",
              "\n",
              "         101        102        103        104        105        106      107  \n",
              "0  83.748104  84.028504  84.717001  84.944502  84.944502  84.944502  84.7295  \n",
              "\n",
              "[1 rows x 108 columns]"
            ],
            "text/html": [
              "\n",
              "  <div id=\"df-35d3885e-dbb0-4348-bd8a-4bad55958310\">\n",
              "    <div class=\"colab-df-container\">\n",
              "      <div>\n",
              "<style scoped>\n",
              "    .dataframe tbody tr th:only-of-type {\n",
              "        vertical-align: middle;\n",
              "    }\n",
              "\n",
              "    .dataframe tbody tr th {\n",
              "        vertical-align: top;\n",
              "    }\n",
              "\n",
              "    .dataframe thead th {\n",
              "        text-align: right;\n",
              "    }\n",
              "</style>\n",
              "<table border=\"1\" class=\"dataframe\">\n",
              "  <thead>\n",
              "    <tr style=\"text-align: right;\">\n",
              "      <th></th>\n",
              "      <th>0</th>\n",
              "      <th>1</th>\n",
              "      <th>2</th>\n",
              "      <th>3</th>\n",
              "      <th>4</th>\n",
              "      <th>5</th>\n",
              "      <th>6</th>\n",
              "      <th>7</th>\n",
              "      <th>8</th>\n",
              "      <th>9</th>\n",
              "      <th>...</th>\n",
              "      <th>98</th>\n",
              "      <th>99</th>\n",
              "      <th>100</th>\n",
              "      <th>101</th>\n",
              "      <th>102</th>\n",
              "      <th>103</th>\n",
              "      <th>104</th>\n",
              "      <th>105</th>\n",
              "      <th>106</th>\n",
              "      <th>107</th>\n",
              "    </tr>\n",
              "  </thead>\n",
              "  <tbody>\n",
              "    <tr>\n",
              "      <th>0</th>\n",
              "      <td>85.974996</td>\n",
              "      <td>85.974996</td>\n",
              "      <td>86.4025</td>\n",
              "      <td>86.487999</td>\n",
              "      <td>86.438002</td>\n",
              "      <td>86.407996</td>\n",
              "      <td>86.749497</td>\n",
              "      <td>86.749497</td>\n",
              "      <td>86.749497</td>\n",
              "      <td>87.334002</td>\n",
              "      <td>...</td>\n",
              "      <td>83.977994</td>\n",
              "      <td>83.977994</td>\n",
              "      <td>83.800001</td>\n",
              "      <td>83.748104</td>\n",
              "      <td>84.028504</td>\n",
              "      <td>84.717001</td>\n",
              "      <td>84.944502</td>\n",
              "      <td>84.944502</td>\n",
              "      <td>84.944502</td>\n",
              "      <td>84.7295</td>\n",
              "    </tr>\n",
              "  </tbody>\n",
              "</table>\n",
              "<p>1 rows × 108 columns</p>\n",
              "</div>\n",
              "      <button class=\"colab-df-convert\" onclick=\"convertToInteractive('df-35d3885e-dbb0-4348-bd8a-4bad55958310')\"\n",
              "              title=\"Convert this dataframe to an interactive table.\"\n",
              "              style=\"display:none;\">\n",
              "        \n",
              "  <svg xmlns=\"http://www.w3.org/2000/svg\" height=\"24px\"viewBox=\"0 0 24 24\"\n",
              "       width=\"24px\">\n",
              "    <path d=\"M0 0h24v24H0V0z\" fill=\"none\"/>\n",
              "    <path d=\"M18.56 5.44l.94 2.06.94-2.06 2.06-.94-2.06-.94-.94-2.06-.94 2.06-2.06.94zm-11 1L8.5 8.5l.94-2.06 2.06-.94-2.06-.94L8.5 2.5l-.94 2.06-2.06.94zm10 10l.94 2.06.94-2.06 2.06-.94-2.06-.94-.94-2.06-.94 2.06-2.06.94z\"/><path d=\"M17.41 7.96l-1.37-1.37c-.4-.4-.92-.59-1.43-.59-.52 0-1.04.2-1.43.59L10.3 9.45l-7.72 7.72c-.78.78-.78 2.05 0 2.83L4 21.41c.39.39.9.59 1.41.59.51 0 1.02-.2 1.41-.59l7.78-7.78 2.81-2.81c.8-.78.8-2.07 0-2.86zM5.41 20L4 18.59l7.72-7.72 1.47 1.35L5.41 20z\"/>\n",
              "  </svg>\n",
              "      </button>\n",
              "      \n",
              "  <style>\n",
              "    .colab-df-container {\n",
              "      display:flex;\n",
              "      flex-wrap:wrap;\n",
              "      gap: 12px;\n",
              "    }\n",
              "\n",
              "    .colab-df-convert {\n",
              "      background-color: #E8F0FE;\n",
              "      border: none;\n",
              "      border-radius: 50%;\n",
              "      cursor: pointer;\n",
              "      display: none;\n",
              "      fill: #1967D2;\n",
              "      height: 32px;\n",
              "      padding: 0 0 0 0;\n",
              "      width: 32px;\n",
              "    }\n",
              "\n",
              "    .colab-df-convert:hover {\n",
              "      background-color: #E2EBFA;\n",
              "      box-shadow: 0px 1px 2px rgba(60, 64, 67, 0.3), 0px 1px 3px 1px rgba(60, 64, 67, 0.15);\n",
              "      fill: #174EA6;\n",
              "    }\n",
              "\n",
              "    [theme=dark] .colab-df-convert {\n",
              "      background-color: #3B4455;\n",
              "      fill: #D2E3FC;\n",
              "    }\n",
              "\n",
              "    [theme=dark] .colab-df-convert:hover {\n",
              "      background-color: #434B5C;\n",
              "      box-shadow: 0px 1px 3px 1px rgba(0, 0, 0, 0.15);\n",
              "      filter: drop-shadow(0px 1px 2px rgba(0, 0, 0, 0.3));\n",
              "      fill: #FFFFFF;\n",
              "    }\n",
              "  </style>\n",
              "\n",
              "      <script>\n",
              "        const buttonEl =\n",
              "          document.querySelector('#df-35d3885e-dbb0-4348-bd8a-4bad55958310 button.colab-df-convert');\n",
              "        buttonEl.style.display =\n",
              "          google.colab.kernel.accessAllowed ? 'block' : 'none';\n",
              "\n",
              "        async function convertToInteractive(key) {\n",
              "          const element = document.querySelector('#df-35d3885e-dbb0-4348-bd8a-4bad55958310');\n",
              "          const dataTable =\n",
              "            await google.colab.kernel.invokeFunction('convertToInteractive',\n",
              "                                                     [key], {});\n",
              "          if (!dataTable) return;\n",
              "\n",
              "          const docLinkHtml = 'Like what you see? Visit the ' +\n",
              "            '<a target=\"_blank\" href=https://colab.research.google.com/notebooks/data_table.ipynb>data table notebook</a>'\n",
              "            + ' to learn more about interactive tables.';\n",
              "          element.innerHTML = '';\n",
              "          dataTable['output_type'] = 'display_data';\n",
              "          await google.colab.output.renderOutput(dataTable, element);\n",
              "          const docLink = document.createElement('div');\n",
              "          docLink.innerHTML = docLinkHtml;\n",
              "          element.appendChild(docLink);\n",
              "        }\n",
              "      </script>\n",
              "    </div>\n",
              "  </div>\n",
              "  "
            ]
          },
          "metadata": {},
          "execution_count": 17
        },
        {
          "output_type": "execute_result",
          "data": {
            "text/plain": [
              "           0\n",
              "0  84.408501\n",
              "1  84.361969\n",
              "2  84.413513\n",
              "3  84.413513\n",
              "4  84.413513\n",
              "5  84.350754\n",
              "6  84.286377\n",
              "7  84.422440"
            ],
            "text/html": [
              "\n",
              "  <div id=\"df-f695804f-d135-4580-8cb4-baef3e5c7b26\">\n",
              "    <div class=\"colab-df-container\">\n",
              "      <div>\n",
              "<style scoped>\n",
              "    .dataframe tbody tr th:only-of-type {\n",
              "        vertical-align: middle;\n",
              "    }\n",
              "\n",
              "    .dataframe tbody tr th {\n",
              "        vertical-align: top;\n",
              "    }\n",
              "\n",
              "    .dataframe thead th {\n",
              "        text-align: right;\n",
              "    }\n",
              "</style>\n",
              "<table border=\"1\" class=\"dataframe\">\n",
              "  <thead>\n",
              "    <tr style=\"text-align: right;\">\n",
              "      <th></th>\n",
              "      <th>0</th>\n",
              "    </tr>\n",
              "  </thead>\n",
              "  <tbody>\n",
              "    <tr>\n",
              "      <th>0</th>\n",
              "      <td>84.408501</td>\n",
              "    </tr>\n",
              "    <tr>\n",
              "      <th>1</th>\n",
              "      <td>84.361969</td>\n",
              "    </tr>\n",
              "    <tr>\n",
              "      <th>2</th>\n",
              "      <td>84.413513</td>\n",
              "    </tr>\n",
              "    <tr>\n",
              "      <th>3</th>\n",
              "      <td>84.413513</td>\n",
              "    </tr>\n",
              "    <tr>\n",
              "      <th>4</th>\n",
              "      <td>84.413513</td>\n",
              "    </tr>\n",
              "    <tr>\n",
              "      <th>5</th>\n",
              "      <td>84.350754</td>\n",
              "    </tr>\n",
              "    <tr>\n",
              "      <th>6</th>\n",
              "      <td>84.286377</td>\n",
              "    </tr>\n",
              "    <tr>\n",
              "      <th>7</th>\n",
              "      <td>84.422440</td>\n",
              "    </tr>\n",
              "  </tbody>\n",
              "</table>\n",
              "</div>\n",
              "      <button class=\"colab-df-convert\" onclick=\"convertToInteractive('df-f695804f-d135-4580-8cb4-baef3e5c7b26')\"\n",
              "              title=\"Convert this dataframe to an interactive table.\"\n",
              "              style=\"display:none;\">\n",
              "        \n",
              "  <svg xmlns=\"http://www.w3.org/2000/svg\" height=\"24px\"viewBox=\"0 0 24 24\"\n",
              "       width=\"24px\">\n",
              "    <path d=\"M0 0h24v24H0V0z\" fill=\"none\"/>\n",
              "    <path d=\"M18.56 5.44l.94 2.06.94-2.06 2.06-.94-2.06-.94-.94-2.06-.94 2.06-2.06.94zm-11 1L8.5 8.5l.94-2.06 2.06-.94-2.06-.94L8.5 2.5l-.94 2.06-2.06.94zm10 10l.94 2.06.94-2.06 2.06-.94-2.06-.94-.94-2.06-.94 2.06-2.06.94z\"/><path d=\"M17.41 7.96l-1.37-1.37c-.4-.4-.92-.59-1.43-.59-.52 0-1.04.2-1.43.59L10.3 9.45l-7.72 7.72c-.78.78-.78 2.05 0 2.83L4 21.41c.39.39.9.59 1.41.59.51 0 1.02-.2 1.41-.59l7.78-7.78 2.81-2.81c.8-.78.8-2.07 0-2.86zM5.41 20L4 18.59l7.72-7.72 1.47 1.35L5.41 20z\"/>\n",
              "  </svg>\n",
              "      </button>\n",
              "      \n",
              "  <style>\n",
              "    .colab-df-container {\n",
              "      display:flex;\n",
              "      flex-wrap:wrap;\n",
              "      gap: 12px;\n",
              "    }\n",
              "\n",
              "    .colab-df-convert {\n",
              "      background-color: #E8F0FE;\n",
              "      border: none;\n",
              "      border-radius: 50%;\n",
              "      cursor: pointer;\n",
              "      display: none;\n",
              "      fill: #1967D2;\n",
              "      height: 32px;\n",
              "      padding: 0 0 0 0;\n",
              "      width: 32px;\n",
              "    }\n",
              "\n",
              "    .colab-df-convert:hover {\n",
              "      background-color: #E2EBFA;\n",
              "      box-shadow: 0px 1px 2px rgba(60, 64, 67, 0.3), 0px 1px 3px 1px rgba(60, 64, 67, 0.15);\n",
              "      fill: #174EA6;\n",
              "    }\n",
              "\n",
              "    [theme=dark] .colab-df-convert {\n",
              "      background-color: #3B4455;\n",
              "      fill: #D2E3FC;\n",
              "    }\n",
              "\n",
              "    [theme=dark] .colab-df-convert:hover {\n",
              "      background-color: #434B5C;\n",
              "      box-shadow: 0px 1px 3px 1px rgba(0, 0, 0, 0.15);\n",
              "      filter: drop-shadow(0px 1px 2px rgba(0, 0, 0, 0.3));\n",
              "      fill: #FFFFFF;\n",
              "    }\n",
              "  </style>\n",
              "\n",
              "      <script>\n",
              "        const buttonEl =\n",
              "          document.querySelector('#df-f695804f-d135-4580-8cb4-baef3e5c7b26 button.colab-df-convert');\n",
              "        buttonEl.style.display =\n",
              "          google.colab.kernel.accessAllowed ? 'block' : 'none';\n",
              "\n",
              "        async function convertToInteractive(key) {\n",
              "          const element = document.querySelector('#df-f695804f-d135-4580-8cb4-baef3e5c7b26');\n",
              "          const dataTable =\n",
              "            await google.colab.kernel.invokeFunction('convertToInteractive',\n",
              "                                                     [key], {});\n",
              "          if (!dataTable) return;\n",
              "\n",
              "          const docLinkHtml = 'Like what you see? Visit the ' +\n",
              "            '<a target=\"_blank\" href=https://colab.research.google.com/notebooks/data_table.ipynb>data table notebook</a>'\n",
              "            + ' to learn more about interactive tables.';\n",
              "          element.innerHTML = '';\n",
              "          dataTable['output_type'] = 'display_data';\n",
              "          await google.colab.output.renderOutput(dataTable, element);\n",
              "          const docLink = document.createElement('div');\n",
              "          docLink.innerHTML = docLinkHtml;\n",
              "          element.appendChild(docLink);\n",
              "        }\n",
              "      </script>\n",
              "    </div>\n",
              "  </div>\n",
              "  "
            ]
          },
          "metadata": {},
          "execution_count": 17
        }
      ]
    },
    {
      "cell_type": "code",
      "source": [
        "from sklearn.metrics import mean_absolute_error"
      ],
      "metadata": {
        "id": "aA40LafJzhCZ"
      },
      "execution_count": 18,
      "outputs": []
    },
    {
      "cell_type": "code",
      "source": [
        "#print('LSTM')\n",
        "#round(metrics.mean_absolute_error(df1, df2),2)\n",
        "#print()\n",
        "#print(\"MAE-LSTM : \",round(mean_absolute_error(df1,df2)))"
      ],
      "metadata": {
        "id": "ZlCbfbpKqtLp"
      },
      "execution_count": 19,
      "outputs": []
    },
    {
      "cell_type": "code",
      "source": [
        "# shift train predictions for plotting\n",
        "trainPredictPlot = numpy.empty_like(dataset)\n",
        "trainPredictPlot[:, :] = numpy.nan\n",
        "trainPredictPlot[look_back:len(trainPredict)+look_back, :] = trainPredict\n",
        "# shift test predictions for plotting\n",
        "testPredictPlot = numpy.empty_like(dataset)\n",
        "testPredictPlot[:, :] = numpy.nan\n",
        "testPredictPlot[len(trainPredict)+(look_back*2)+1:len(dataset)-1, :] = testPredict\n",
        "# plot baseline and predictions\n",
        "plt.plot(scaler.inverse_transform(dataset))\n",
        "#plt.plot(trainPredictPlot)\n",
        "#plt.plot(testPredictPlot)\n",
        "#plt.legend(['Train', 'Test'], loc='upper right')\n",
        "plt.plot(trainPredictPlot, label='Train')\n",
        "plt.plot(testPredictPlot,label='Test')\n",
        "plt.ylabel('Price')\n",
        "plt.legend(loc='upper right')\n",
        "plt.show()"
      ],
      "metadata": {
        "id": "OcNUeR1BuZ2N",
        "colab": {
          "base_uri": "https://localhost:8080/",
          "height": 300
        },
        "outputId": "aa31d81b-a472-43b5-a116-9df6de4c0858"
      },
      "execution_count": 20,
      "outputs": [
        {
          "output_type": "execute_result",
          "data": {
            "text/plain": [
              "[<matplotlib.lines.Line2D at 0x7f85b01a4250>]"
            ]
          },
          "metadata": {},
          "execution_count": 20
        },
        {
          "output_type": "execute_result",
          "data": {
            "text/plain": [
              "[<matplotlib.lines.Line2D at 0x7f8546104350>]"
            ]
          },
          "metadata": {},
          "execution_count": 20
        },
        {
          "output_type": "execute_result",
          "data": {
            "text/plain": [
              "[<matplotlib.lines.Line2D at 0x7f8546104850>]"
            ]
          },
          "metadata": {},
          "execution_count": 20
        },
        {
          "output_type": "execute_result",
          "data": {
            "text/plain": [
              "Text(0, 0.5, 'Price')"
            ]
          },
          "metadata": {},
          "execution_count": 20
        },
        {
          "output_type": "execute_result",
          "data": {
            "text/plain": [
              "<matplotlib.legend.Legend at 0x7f85461048d0>"
            ]
          },
          "metadata": {},
          "execution_count": 20
        },
        {
          "output_type": "display_data",
          "data": {
            "text/plain": [
              "<Figure size 432x288 with 1 Axes>"
            ],
            "image/png": "[encoded data removed]"
          },
          "metadata": {
            "needs_background": "light"
          }
        }
      ]
    }
  ]
}