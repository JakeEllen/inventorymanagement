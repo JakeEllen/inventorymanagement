{
  "nbformat": 4,
  "nbformat_minor": 0,
  "metadata": {
    "colab": {
      "provenance": [],
      "collapsed_sections": []
    },
    "kernelspec": {
      "name": "python3",
      "display_name": "Python 3"
    },
    "language_info": {
      "name": "python"
    }
  },
  "cells": [
    {
      "cell_type": "code",
      "execution_count": null,
      "metadata": {
        "id": "beeBPgGrSAY7"
      },
      "outputs": [],
      "source": [
        "from IPython.core.interactiveshell import InteractiveShell\n",
        "InteractiveShell.ast_node_interactivity = \"all\""
      ]
    },
    {
      "cell_type": "code",
      "source": [
        "import numpy\n",
        "import matplotlib.pyplot as plt\n",
        "import pandas as pd\n",
        "import math\n",
        "from keras.models import Sequential\n",
        "from keras.layers import Dense\n",
        "from keras.layers import LSTM\n",
        "from sklearn.preprocessing import MinMaxScaler\n",
        "from sklearn.metrics import mean_squared_error"
      ],
      "metadata": {
        "id": "XUGQW8whSEO5"
      },
      "execution_count": null,
      "outputs": []
    },
    {
      "cell_type": "code",
      "source": [
        "# fix random seed for reproducibility\n",
        "numpy.random.seed(7)"
      ],
      "metadata": {
        "id": "4QmP2hTGSG4a"
      },
      "execution_count": null,
      "outputs": []
    },
    {
      "cell_type": "code",
      "source": [
        "from google.colab import drive \n",
        "drive.mount('/content/gdrive')"
      ],
      "metadata": {
        "colab": {
          "base_uri": "https://localhost:8080/"
        },
        "id": "foDKI2obSKUa",
        "outputId": "c1be5fc5-7765-44e7-8a9c-44c2d2d19b8d"
      },
      "execution_count": null,
      "outputs": [
        {
          "output_type": "stream",
          "name": "stdout",
          "text": [
            "Mounted at /content/gdrive\n"
          ]
        }
      ]
    },
    {
      "cell_type": "code",
      "source": [
        "#dataset\n",
        "dataframe=pd.read_excel('gdrive/My Drive/Sales+Assembly_Python_1.xlsx',usecols=[2])\n",
        "dataframe.head()\n",
        "#dataframe(columns=['Date'Product','Assembled'],inplace=True)\n",
        "dataset = dataframe.values\n",
        "dataset = dataset.astype('float32')"
      ],
      "metadata": {
        "colab": {
          "base_uri": "https://localhost:8080/",
          "height": 206
        },
        "id": "ekyGJggDSQfF",
        "outputId": "6019fe68-dda5-4f69-8f31-24ffd41fc544"
      },
      "execution_count": null,
      "outputs": [
        {
          "output_type": "execute_result",
          "data": {
            "text/plain": [
              "   Sales\n",
              "0      8\n",
              "1      6\n",
              "2      3\n",
              "3      5\n",
              "4      8"
            ],
            "text/html": [
              "\n",
              "  <div id=\"df-515458ed-f814-4857-b53e-aa42c74dbb4f\">\n",
              "    <div class=\"colab-df-container\">\n",
              "      <div>\n",
              "<style scoped>\n",
              "    .dataframe tbody tr th:only-of-type {\n",
              "        vertical-align: middle;\n",
              "    }\n",
              "\n",
              "    .dataframe tbody tr th {\n",
              "        vertical-align: top;\n",
              "    }\n",
              "\n",
              "    .dataframe thead th {\n",
              "        text-align: right;\n",
              "    }\n",
              "</style>\n",
              "<table border=\"1\" class=\"dataframe\">\n",
              "  <thead>\n",
              "    <tr style=\"text-align: right;\">\n",
              "      <th></th>\n",
              "      <th>Sales</th>\n",
              "    </tr>\n",
              "  </thead>\n",
              "  <tbody>\n",
              "    <tr>\n",
              "      <th>0</th>\n",
              "      <td>8</td>\n",
              "    </tr>\n",
              "    <tr>\n",
              "      <th>1</th>\n",
              "      <td>6</td>\n",
              "    </tr>\n",
              "    <tr>\n",
              "      <th>2</th>\n",
              "      <td>3</td>\n",
              "    </tr>\n",
              "    <tr>\n",
              "      <th>3</th>\n",
              "      <td>5</td>\n",
              "    </tr>\n",
              "    <tr>\n",
              "      <th>4</th>\n",
              "      <td>8</td>\n",
              "    </tr>\n",
              "  </tbody>\n",
              "</table>\n",
              "</div>\n",
              "      <button class=\"colab-df-convert\" onclick=\"convertToInteractive('df-515458ed-f814-4857-b53e-aa42c74dbb4f')\"\n",
              "              title=\"Convert this dataframe to an interactive table.\"\n",
              "              style=\"display:none;\">\n",
              "        \n",
              "  <svg xmlns=\"http://www.w3.org/2000/svg\" height=\"24px\"viewBox=\"0 0 24 24\"\n",
              "       width=\"24px\">\n",
              "    <path d=\"M0 0h24v24H0V0z\" fill=\"none\"/>\n",
              "    <path d=\"M18.56 5.44l.94 2.06.94-2.06 2.06-.94-2.06-.94-.94-2.06-.94 2.06-2.06.94zm-11 1L8.5 8.5l.94-2.06 2.06-.94-2.06-.94L8.5 2.5l-.94 2.06-2.06.94zm10 10l.94 2.06.94-2.06 2.06-.94-2.06-.94-.94-2.06-.94 2.06-2.06.94z\"/><path d=\"M17.41 7.96l-1.37-1.37c-.4-.4-.92-.59-1.43-.59-.52 0-1.04.2-1.43.59L10.3 9.45l-7.72 7.72c-.78.78-.78 2.05 0 2.83L4 21.41c.39.39.9.59 1.41.59.51 0 1.02-.2 1.41-.59l7.78-7.78 2.81-2.81c.8-.78.8-2.07 0-2.86zM5.41 20L4 18.59l7.72-7.72 1.47 1.35L5.41 20z\"/>\n",
              "  </svg>\n",
              "      </button>\n",
              "      \n",
              "  <style>\n",
              "    .colab-df-container {\n",
              "      display:flex;\n",
              "      flex-wrap:wrap;\n",
              "      gap: 12px;\n",
              "    }\n",
              "\n",
              "    .colab-df-convert {\n",
              "      background-color: #E8F0FE;\n",
              "      border: none;\n",
              "      border-radius: 50%;\n",
              "      cursor: pointer;\n",
              "      display: none;\n",
              "      fill: #1967D2;\n",
              "      height: 32px;\n",
              "      padding: 0 0 0 0;\n",
              "      width: 32px;\n",
              "    }\n",
              "\n",
              "    .colab-df-convert:hover {\n",
              "      background-color: #E2EBFA;\n",
              "      box-shadow: 0px 1px 2px rgba(60, 64, 67, 0.3), 0px 1px 3px 1px rgba(60, 64, 67, 0.15);\n",
              "      fill: #174EA6;\n",
              "    }\n",
              "\n",
              "    [theme=dark] .colab-df-convert {\n",
              "      background-color: #3B4455;\n",
              "      fill: #D2E3FC;\n",
              "    }\n",
              "\n",
              "    [theme=dark] .colab-df-convert:hover {\n",
              "      background-color: #434B5C;\n",
              "      box-shadow: 0px 1px 3px 1px rgba(0, 0, 0, 0.15);\n",
              "      filter: drop-shadow(0px 1px 2px rgba(0, 0, 0, 0.3));\n",
              "      fill: #FFFFFF;\n",
              "    }\n",
              "  </style>\n",
              "\n",
              "      <script>\n",
              "        const buttonEl =\n",
              "          document.querySelector('#df-515458ed-f814-4857-b53e-aa42c74dbb4f button.colab-df-convert');\n",
              "        buttonEl.style.display =\n",
              "          google.colab.kernel.accessAllowed ? 'block' : 'none';\n",
              "\n",
              "        async function convertToInteractive(key) {\n",
              "          const element = document.querySelector('#df-515458ed-f814-4857-b53e-aa42c74dbb4f');\n",
              "          const dataTable =\n",
              "            await google.colab.kernel.invokeFunction('convertToInteractive',\n",
              "                                                     [key], {});\n",
              "          if (!dataTable) return;\n",
              "\n",
              "          const docLinkHtml = 'Like what you see? Visit the ' +\n",
              "            '<a target=\"_blank\" href=https://colab.research.google.com/notebooks/data_table.ipynb>data table notebook</a>'\n",
              "            + ' to learn more about interactive tables.';\n",
              "          element.innerHTML = '';\n",
              "          dataTable['output_type'] = 'display_data';\n",
              "          await google.colab.output.renderOutput(dataTable, element);\n",
              "          const docLink = document.createElement('div');\n",
              "          docLink.innerHTML = docLinkHtml;\n",
              "          element.appendChild(docLink);\n",
              "        }\n",
              "      </script>\n",
              "    </div>\n",
              "  </div>\n",
              "  "
            ]
          },
          "metadata": {},
          "execution_count": 5
        }
      ]
    },
    {
      "cell_type": "code",
      "source": [
        "# normalize the dataset\n",
        "scaler = MinMaxScaler(feature_range=(0, 1))\n",
        "dataset = scaler.fit_transform(dataset)"
      ],
      "metadata": {
        "id": "3gR2ie6iTRbA"
      },
      "execution_count": null,
      "outputs": []
    },
    {
      "cell_type": "code",
      "source": [
        "# split into train and test sets\n",
        "train_size = int(len(dataset) * 0.70)\n",
        "test_size = len(dataset) - train_size\n",
        "train, test = dataset[0:train_size,:], dataset[train_size:len(dataset),:]\n",
        "print(len(train), len(test))"
      ],
      "metadata": {
        "colab": {
          "base_uri": "https://localhost:8080/"
        },
        "id": "Bwdc9eNMTS2i",
        "outputId": "ad55705f-4909-4fcc-be84-5063a283d699"
      },
      "execution_count": null,
      "outputs": [
        {
          "output_type": "stream",
          "name": "stdout",
          "text": [
            "147 63\n"
          ]
        }
      ]
    },
    {
      "cell_type": "code",
      "source": [
        "# convert an array of values into a dataset matrix\n",
        "def create_dataset(dataset, look_back=1):\n",
        "\tdataX, dataY = [], []\n",
        "\tfor i in range(len(dataset)-look_back-1):\n",
        "\t\ta = dataset[i:(i+look_back), 0]\n",
        "\t\tdataX.append(a)\n",
        "\t\tdataY.append(dataset[i + look_back, 0])\n",
        "\treturn numpy.array(dataX), numpy.array(dataY)"
      ],
      "metadata": {
        "id": "81ZCMOkmTp6b"
      },
      "execution_count": null,
      "outputs": []
    },
    {
      "cell_type": "code",
      "source": [
        "# reshape into X=t and Y=t+1\n",
        "look_back = 1\n",
        "trainX, trainY = create_dataset(train, look_back)\n",
        "testX, testY = create_dataset(test, look_back)"
      ],
      "metadata": {
        "id": "wOMDWHWaTs1Z"
      },
      "execution_count": null,
      "outputs": []
    },
    {
      "cell_type": "code",
      "source": [
        "# reshape input to be [samples, time steps, features]\n",
        "trainX = numpy.reshape(trainX, (trainX.shape[0], 1, trainX.shape[1]))\n",
        "testX = numpy.reshape(testX, (testX.shape[0], 1, testX.shape[1]))"
      ],
      "metadata": {
        "id": "kqnmSJi9Tvqs"
      },
      "execution_count": null,
      "outputs": []
    },
    {
      "cell_type": "code",
      "source": [
        "# create and fit the LSTM network\n",
        "model = Sequential()\n",
        "model.add(LSTM(4, input_shape=(1, look_back)))\n",
        "model.add(Dense(1))\n",
        "model.compile(loss='mean_squared_error', optimizer='adam')\n",
        "model.fit(trainX, trainY, epochs=100, batch_size=1, verbose=2)"
      ],
      "metadata": {
        "colab": {
          "base_uri": "https://localhost:8080/"
        },
        "id": "V76CIs2fTxC8",
        "outputId": "c9851871-2a84-4225-d8be-d49fbd71f71c"
      },
      "execution_count": null,
      "outputs": [
        {
          "output_type": "stream",
          "name": "stdout",
          "text": [
            "Epoch 1/100\n",
            "145/145 - 2s - loss: 0.0893 - 2s/epoch - 13ms/step\n",
            "Epoch 2/100\n",
            "145/145 - 0s - loss: 0.0302 - 200ms/epoch - 1ms/step\n",
            "Epoch 3/100\n",
            "145/145 - 0s - loss: 0.0266 - 211ms/epoch - 1ms/step\n",
            "Epoch 4/100\n",
            "145/145 - 0s - loss: 0.0266 - 203ms/epoch - 1ms/step\n",
            "Epoch 5/100\n",
            "145/145 - 0s - loss: 0.0266 - 190ms/epoch - 1ms/step\n",
            "Epoch 6/100\n",
            "145/145 - 0s - loss: 0.0266 - 194ms/epoch - 1ms/step\n",
            "Epoch 7/100\n",
            "145/145 - 0s - loss: 0.0265 - 193ms/epoch - 1ms/step\n",
            "Epoch 8/100\n",
            "145/145 - 0s - loss: 0.0268 - 199ms/epoch - 1ms/step\n",
            "Epoch 9/100\n",
            "145/145 - 0s - loss: 0.0267 - 212ms/epoch - 1ms/step\n",
            "Epoch 10/100\n",
            "145/145 - 0s - loss: 0.0266 - 217ms/epoch - 1ms/step\n",
            "Epoch 11/100\n",
            "145/145 - 0s - loss: 0.0266 - 230ms/epoch - 2ms/step\n",
            "Epoch 12/100\n",
            "145/145 - 0s - loss: 0.0265 - 229ms/epoch - 2ms/step\n",
            "Epoch 13/100\n",
            "145/145 - 0s - loss: 0.0266 - 227ms/epoch - 2ms/step\n",
            "Epoch 14/100\n",
            "145/145 - 0s - loss: 0.0265 - 211ms/epoch - 1ms/step\n",
            "Epoch 15/100\n",
            "145/145 - 0s - loss: 0.0266 - 195ms/epoch - 1ms/step\n",
            "Epoch 16/100\n",
            "145/145 - 0s - loss: 0.0266 - 193ms/epoch - 1ms/step\n",
            "Epoch 17/100\n",
            "145/145 - 0s - loss: 0.0267 - 206ms/epoch - 1ms/step\n",
            "Epoch 18/100\n",
            "145/145 - 0s - loss: 0.0265 - 197ms/epoch - 1ms/step\n",
            "Epoch 19/100\n",
            "145/145 - 0s - loss: 0.0268 - 204ms/epoch - 1ms/step\n",
            "Epoch 20/100\n",
            "145/145 - 0s - loss: 0.0265 - 202ms/epoch - 1ms/step\n",
            "Epoch 21/100\n",
            "145/145 - 0s - loss: 0.0266 - 205ms/epoch - 1ms/step\n",
            "Epoch 22/100\n",
            "145/145 - 0s - loss: 0.0266 - 210ms/epoch - 1ms/step\n",
            "Epoch 23/100\n",
            "145/145 - 0s - loss: 0.0264 - 201ms/epoch - 1ms/step\n",
            "Epoch 24/100\n",
            "145/145 - 0s - loss: 0.0266 - 219ms/epoch - 2ms/step\n",
            "Epoch 25/100\n",
            "145/145 - 0s - loss: 0.0266 - 233ms/epoch - 2ms/step\n",
            "Epoch 26/100\n",
            "145/145 - 0s - loss: 0.0265 - 232ms/epoch - 2ms/step\n",
            "Epoch 27/100\n",
            "145/145 - 0s - loss: 0.0267 - 225ms/epoch - 2ms/step\n",
            "Epoch 28/100\n",
            "145/145 - 0s - loss: 0.0266 - 200ms/epoch - 1ms/step\n",
            "Epoch 29/100\n",
            "145/145 - 0s - loss: 0.0266 - 202ms/epoch - 1ms/step\n",
            "Epoch 30/100\n",
            "145/145 - 0s - loss: 0.0266 - 199ms/epoch - 1ms/step\n",
            "Epoch 31/100\n",
            "145/145 - 0s - loss: 0.0267 - 214ms/epoch - 1ms/step\n",
            "Epoch 32/100\n",
            "145/145 - 0s - loss: 0.0266 - 212ms/epoch - 1ms/step\n",
            "Epoch 33/100\n",
            "145/145 - 0s - loss: 0.0264 - 202ms/epoch - 1ms/step\n",
            "Epoch 34/100\n",
            "145/145 - 0s - loss: 0.0264 - 196ms/epoch - 1ms/step\n",
            "Epoch 35/100\n",
            "145/145 - 0s - loss: 0.0264 - 194ms/epoch - 1ms/step\n",
            "Epoch 36/100\n",
            "145/145 - 0s - loss: 0.0266 - 214ms/epoch - 1ms/step\n",
            "Epoch 37/100\n",
            "145/145 - 0s - loss: 0.0266 - 221ms/epoch - 2ms/step\n",
            "Epoch 38/100\n",
            "145/145 - 0s - loss: 0.0268 - 204ms/epoch - 1ms/step\n",
            "Epoch 39/100\n",
            "145/145 - 0s - loss: 0.0265 - 197ms/epoch - 1ms/step\n",
            "Epoch 40/100\n",
            "145/145 - 0s - loss: 0.0266 - 195ms/epoch - 1ms/step\n",
            "Epoch 41/100\n",
            "145/145 - 0s - loss: 0.0265 - 224ms/epoch - 2ms/step\n",
            "Epoch 42/100\n",
            "145/145 - 0s - loss: 0.0263 - 199ms/epoch - 1ms/step\n",
            "Epoch 43/100\n",
            "145/145 - 0s - loss: 0.0266 - 203ms/epoch - 1ms/step\n",
            "Epoch 44/100\n",
            "145/145 - 0s - loss: 0.0266 - 189ms/epoch - 1ms/step\n",
            "Epoch 45/100\n",
            "145/145 - 0s - loss: 0.0265 - 198ms/epoch - 1ms/step\n",
            "Epoch 46/100\n",
            "145/145 - 0s - loss: 0.0266 - 206ms/epoch - 1ms/step\n",
            "Epoch 47/100\n",
            "145/145 - 0s - loss: 0.0265 - 202ms/epoch - 1ms/step\n",
            "Epoch 48/100\n",
            "145/145 - 0s - loss: 0.0265 - 203ms/epoch - 1ms/step\n",
            "Epoch 49/100\n",
            "145/145 - 0s - loss: 0.0265 - 195ms/epoch - 1ms/step\n",
            "Epoch 50/100\n",
            "145/145 - 0s - loss: 0.0266 - 202ms/epoch - 1ms/step\n",
            "Epoch 51/100\n",
            "145/145 - 0s - loss: 0.0266 - 207ms/epoch - 1ms/step\n",
            "Epoch 52/100\n",
            "145/145 - 0s - loss: 0.0265 - 196ms/epoch - 1ms/step\n",
            "Epoch 53/100\n",
            "145/145 - 0s - loss: 0.0265 - 195ms/epoch - 1ms/step\n",
            "Epoch 54/100\n",
            "145/145 - 0s - loss: 0.0266 - 200ms/epoch - 1ms/step\n",
            "Epoch 55/100\n",
            "145/145 - 0s - loss: 0.0264 - 193ms/epoch - 1ms/step\n",
            "Epoch 56/100\n",
            "145/145 - 0s - loss: 0.0267 - 203ms/epoch - 1ms/step\n",
            "Epoch 57/100\n",
            "145/145 - 0s - loss: 0.0265 - 195ms/epoch - 1ms/step\n",
            "Epoch 58/100\n",
            "145/145 - 0s - loss: 0.0267 - 200ms/epoch - 1ms/step\n",
            "Epoch 59/100\n",
            "145/145 - 0s - loss: 0.0268 - 197ms/epoch - 1ms/step\n",
            "Epoch 60/100\n",
            "145/145 - 0s - loss: 0.0266 - 199ms/epoch - 1ms/step\n",
            "Epoch 61/100\n",
            "145/145 - 0s - loss: 0.0264 - 209ms/epoch - 1ms/step\n",
            "Epoch 62/100\n",
            "145/145 - 0s - loss: 0.0265 - 200ms/epoch - 1ms/step\n",
            "Epoch 63/100\n",
            "145/145 - 0s - loss: 0.0265 - 198ms/epoch - 1ms/step\n",
            "Epoch 64/100\n",
            "145/145 - 0s - loss: 0.0264 - 218ms/epoch - 2ms/step\n",
            "Epoch 65/100\n",
            "145/145 - 0s - loss: 0.0265 - 208ms/epoch - 1ms/step\n",
            "Epoch 66/100\n",
            "145/145 - 0s - loss: 0.0266 - 212ms/epoch - 1ms/step\n",
            "Epoch 67/100\n",
            "145/145 - 0s - loss: 0.0264 - 197ms/epoch - 1ms/step\n",
            "Epoch 68/100\n",
            "145/145 - 0s - loss: 0.0265 - 197ms/epoch - 1ms/step\n",
            "Epoch 69/100\n",
            "145/145 - 0s - loss: 0.0264 - 193ms/epoch - 1ms/step\n",
            "Epoch 70/100\n",
            "145/145 - 0s - loss: 0.0265 - 199ms/epoch - 1ms/step\n",
            "Epoch 71/100\n",
            "145/145 - 0s - loss: 0.0263 - 212ms/epoch - 1ms/step\n",
            "Epoch 72/100\n",
            "145/145 - 0s - loss: 0.0264 - 210ms/epoch - 1ms/step\n",
            "Epoch 73/100\n",
            "145/145 - 0s - loss: 0.0264 - 203ms/epoch - 1ms/step\n",
            "Epoch 74/100\n",
            "145/145 - 0s - loss: 0.0264 - 197ms/epoch - 1ms/step\n",
            "Epoch 75/100\n",
            "145/145 - 0s - loss: 0.0266 - 198ms/epoch - 1ms/step\n",
            "Epoch 76/100\n",
            "145/145 - 0s - loss: 0.0265 - 215ms/epoch - 1ms/step\n",
            "Epoch 77/100\n",
            "145/145 - 0s - loss: 0.0265 - 205ms/epoch - 1ms/step\n",
            "Epoch 78/100\n",
            "145/145 - 0s - loss: 0.0264 - 207ms/epoch - 1ms/step\n",
            "Epoch 79/100\n",
            "145/145 - 0s - loss: 0.0263 - 195ms/epoch - 1ms/step\n",
            "Epoch 80/100\n",
            "145/145 - 0s - loss: 0.0264 - 203ms/epoch - 1ms/step\n",
            "Epoch 81/100\n",
            "145/145 - 0s - loss: 0.0265 - 205ms/epoch - 1ms/step\n",
            "Epoch 82/100\n",
            "145/145 - 0s - loss: 0.0264 - 192ms/epoch - 1ms/step\n",
            "Epoch 83/100\n",
            "145/145 - 0s - loss: 0.0262 - 206ms/epoch - 1ms/step\n",
            "Epoch 84/100\n",
            "145/145 - 0s - loss: 0.0264 - 213ms/epoch - 1ms/step\n",
            "Epoch 85/100\n",
            "145/145 - 0s - loss: 0.0264 - 205ms/epoch - 1ms/step\n",
            "Epoch 86/100\n",
            "145/145 - 0s - loss: 0.0265 - 198ms/epoch - 1ms/step\n",
            "Epoch 87/100\n",
            "145/145 - 0s - loss: 0.0264 - 200ms/epoch - 1ms/step\n",
            "Epoch 88/100\n",
            "145/145 - 0s - loss: 0.0264 - 203ms/epoch - 1ms/step\n",
            "Epoch 89/100\n",
            "145/145 - 0s - loss: 0.0265 - 199ms/epoch - 1ms/step\n",
            "Epoch 90/100\n",
            "145/145 - 0s - loss: 0.0266 - 202ms/epoch - 1ms/step\n",
            "Epoch 91/100\n",
            "145/145 - 0s - loss: 0.0263 - 205ms/epoch - 1ms/step\n",
            "Epoch 92/100\n",
            "145/145 - 0s - loss: 0.0267 - 201ms/epoch - 1ms/step\n",
            "Epoch 93/100\n",
            "145/145 - 0s - loss: 0.0266 - 211ms/epoch - 1ms/step\n",
            "Epoch 94/100\n",
            "145/145 - 0s - loss: 0.0265 - 200ms/epoch - 1ms/step\n",
            "Epoch 95/100\n",
            "145/145 - 0s - loss: 0.0268 - 200ms/epoch - 1ms/step\n",
            "Epoch 96/100\n",
            "145/145 - 0s - loss: 0.0265 - 204ms/epoch - 1ms/step\n",
            "Epoch 97/100\n",
            "145/145 - 0s - loss: 0.0264 - 205ms/epoch - 1ms/step\n",
            "Epoch 98/100\n",
            "145/145 - 0s - loss: 0.0262 - 199ms/epoch - 1ms/step\n",
            "Epoch 99/100\n",
            "145/145 - 0s - loss: 0.0263 - 194ms/epoch - 1ms/step\n",
            "Epoch 100/100\n",
            "145/145 - 0s - loss: 0.0264 - 203ms/epoch - 1ms/step\n"
          ]
        },
        {
          "output_type": "execute_result",
          "data": {
            "text/plain": [
              "<keras.callbacks.History at 0x7f09be7bc950>"
            ]
          },
          "metadata": {},
          "execution_count": 11
        }
      ]
    },
    {
      "cell_type": "code",
      "source": [
        "# make predictions\n",
        "trainPredict = model.predict(trainX)\n",
        "testPredict = model.predict(testX)\n",
        "# invert predictions\n",
        "trainPredict = scaler.inverse_transform(trainPredict)\n",
        "trainY = scaler.inverse_transform([trainY])\n",
        "testPredict = scaler.inverse_transform(testPredict)\n",
        "testY = scaler.inverse_transform([testY])\n",
        "# calculate root mean squared error\n",
        "trainScore = math.sqrt(mean_squared_error(trainY[0], trainPredict[:,0]))\n",
        "print('Train Score: %.2f RMSE' % (trainScore))\n",
        "testScore = math.sqrt(mean_squared_error(testY[0], testPredict[:,0]))\n",
        "print('Test Score: %.2f RMSE' % (testScore))"
      ],
      "metadata": {
        "colab": {
          "base_uri": "https://localhost:8080/"
        },
        "id": "tFoXDJ39T7qi",
        "outputId": "d65e776c-b32c-4451-9b24-3015624d0765"
      },
      "execution_count": null,
      "outputs": [
        {
          "output_type": "stream",
          "name": "stdout",
          "text": [
            "Train Score: 1.62 RMSE\n",
            "Test Score: 1.12 RMSE\n"
          ]
        }
      ]
    },
    {
      "cell_type": "code",
      "source": [
        "import tensorflow as tf\n",
        "import numpy as np\n",
        "from sklearn.metrics import mean_absolute_error"
      ],
      "metadata": {
        "id": "xmWL32VAUB2g"
      },
      "execution_count": null,
      "outputs": []
    },
    {
      "cell_type": "code",
      "source": [
        "#Mean Absolute Error\n",
        "mae_ =tf.keras.losses.MeanAbsoluteError()\n",
        "mae_= np.round(mae_(testY,testPredict),2)\n",
        "print('LSTM mae:', mae_)"
      ],
      "metadata": {
        "colab": {
          "base_uri": "https://localhost:8080/"
        },
        "id": "f8WxrgrlUHzy",
        "outputId": "cb23b700-6095-4a64-f3aa-6cde4ecf3fee"
      },
      "execution_count": null,
      "outputs": [
        {
          "output_type": "stream",
          "name": "stdout",
          "text": [
            "LSTM mae: 1.27\n"
          ]
        }
      ]
    },
    {
      "cell_type": "code",
      "source": [
        "#Mean absolute percentage error\n",
        "print('LSTM MAPE')\n",
        "np.mean(np.abs((testY - testPredict)/testY))*100"
      ],
      "metadata": {
        "colab": {
          "base_uri": "https://localhost:8080/"
        },
        "id": "WrZDIbPg6tmd",
        "outputId": "8ca6f6b2-3321-4a39-d772-af9a8c3be717"
      },
      "execution_count": null,
      "outputs": [
        {
          "output_type": "stream",
          "name": "stdout",
          "text": [
            "LSTM MAPE\n"
          ]
        },
        {
          "output_type": "execute_result",
          "data": {
            "text/plain": [
              "15.598710848048988"
            ]
          },
          "metadata": {},
          "execution_count": 16
        }
      ]
    },
    {
      "cell_type": "code",
      "source": [
        "#Showing the predicted values with actuals\n",
        "df1=pd.DataFrame(trainY)\n",
        "df1.head()\n",
        "df2=pd.DataFrame(testPredict)\n",
        "df2.head(8)\n",
        "#df2=(testPredict)\n",
        "#df = pd.DataFrame(list(zip(df1,df2)), columns =('Actual','Predicted'))\n",
        "#df = pd.DataFrame(zip(df1,df2), columns =('Actual','Predicted'))\n",
        "#df.head()\n",
        "#df.tail()"
      ],
      "metadata": {
        "colab": {
          "base_uri": "https://localhost:8080/",
          "height": 393
        },
        "id": "Z_n1bPVBUP9u",
        "outputId": "555bb62b-9760-463e-9802-5cf2101bbb91"
      },
      "execution_count": null,
      "outputs": [
        {
          "output_type": "execute_result",
          "data": {
            "text/plain": [
              "   0    1    2    3    4    5    6     7    8    9    ...  135  136  137  138  \\\n",
              "0  6.0  3.0  5.0  8.0  8.0  7.0  9.0  10.0  7.0  8.0  ...  8.0  7.0  7.0  8.0   \n",
              "\n",
              "   139  140   141   142   143   144  \n",
              "0  7.0  9.0  10.0  11.0  13.0  10.0  \n",
              "\n",
              "[1 rows x 145 columns]"
            ],
            "text/html": [
              "\n",
              "  <div id=\"df-c415a35f-3eea-484a-8265-252dc308e339\">\n",
              "    <div class=\"colab-df-container\">\n",
              "      <div>\n",
              "<style scoped>\n",
              "    .dataframe tbody tr th:only-of-type {\n",
              "        vertical-align: middle;\n",
              "    }\n",
              "\n",
              "    .dataframe tbody tr th {\n",
              "        vertical-align: top;\n",
              "    }\n",
              "\n",
              "    .dataframe thead th {\n",
              "        text-align: right;\n",
              "    }\n",
              "</style>\n",
              "<table border=\"1\" class=\"dataframe\">\n",
              "  <thead>\n",
              "    <tr style=\"text-align: right;\">\n",
              "      <th></th>\n",
              "      <th>0</th>\n",
              "      <th>1</th>\n",
              "      <th>2</th>\n",
              "      <th>3</th>\n",
              "      <th>4</th>\n",
              "      <th>5</th>\n",
              "      <th>6</th>\n",
              "      <th>7</th>\n",
              "      <th>8</th>\n",
              "      <th>9</th>\n",
              "      <th>...</th>\n",
              "      <th>135</th>\n",
              "      <th>136</th>\n",
              "      <th>137</th>\n",
              "      <th>138</th>\n",
              "      <th>139</th>\n",
              "      <th>140</th>\n",
              "      <th>141</th>\n",
              "      <th>142</th>\n",
              "      <th>143</th>\n",
              "      <th>144</th>\n",
              "    </tr>\n",
              "  </thead>\n",
              "  <tbody>\n",
              "    <tr>\n",
              "      <th>0</th>\n",
              "      <td>6.0</td>\n",
              "      <td>3.0</td>\n",
              "      <td>5.0</td>\n",
              "      <td>8.0</td>\n",
              "      <td>8.0</td>\n",
              "      <td>7.0</td>\n",
              "      <td>9.0</td>\n",
              "      <td>10.0</td>\n",
              "      <td>7.0</td>\n",
              "      <td>8.0</td>\n",
              "      <td>...</td>\n",
              "      <td>8.0</td>\n",
              "      <td>7.0</td>\n",
              "      <td>7.0</td>\n",
              "      <td>8.0</td>\n",
              "      <td>7.0</td>\n",
              "      <td>9.0</td>\n",
              "      <td>10.0</td>\n",
              "      <td>11.0</td>\n",
              "      <td>13.0</td>\n",
              "      <td>10.0</td>\n",
              "    </tr>\n",
              "  </tbody>\n",
              "</table>\n",
              "<p>1 rows × 145 columns</p>\n",
              "</div>\n",
              "      <button class=\"colab-df-convert\" onclick=\"convertToInteractive('df-c415a35f-3eea-484a-8265-252dc308e339')\"\n",
              "              title=\"Convert this dataframe to an interactive table.\"\n",
              "              style=\"display:none;\">\n",
              "        \n",
              "  <svg xmlns=\"http://www.w3.org/2000/svg\" height=\"24px\"viewBox=\"0 0 24 24\"\n",
              "       width=\"24px\">\n",
              "    <path d=\"M0 0h24v24H0V0z\" fill=\"none\"/>\n",
              "    <path d=\"M18.56 5.44l.94 2.06.94-2.06 2.06-.94-2.06-.94-.94-2.06-.94 2.06-2.06.94zm-11 1L8.5 8.5l.94-2.06 2.06-.94-2.06-.94L8.5 2.5l-.94 2.06-2.06.94zm10 10l.94 2.06.94-2.06 2.06-.94-2.06-.94-.94-2.06-.94 2.06-2.06.94z\"/><path d=\"M17.41 7.96l-1.37-1.37c-.4-.4-.92-.59-1.43-.59-.52 0-1.04.2-1.43.59L10.3 9.45l-7.72 7.72c-.78.78-.78 2.05 0 2.83L4 21.41c.39.39.9.59 1.41.59.51 0 1.02-.2 1.41-.59l7.78-7.78 2.81-2.81c.8-.78.8-2.07 0-2.86zM5.41 20L4 18.59l7.72-7.72 1.47 1.35L5.41 20z\"/>\n",
              "  </svg>\n",
              "      </button>\n",
              "      \n",
              "  <style>\n",
              "    .colab-df-container {\n",
              "      display:flex;\n",
              "      flex-wrap:wrap;\n",
              "      gap: 12px;\n",
              "    }\n",
              "\n",
              "    .colab-df-convert {\n",
              "      background-color: #E8F0FE;\n",
              "      border: none;\n",
              "      border-radius: 50%;\n",
              "      cursor: pointer;\n",
              "      display: none;\n",
              "      fill: #1967D2;\n",
              "      height: 32px;\n",
              "      padding: 0 0 0 0;\n",
              "      width: 32px;\n",
              "    }\n",
              "\n",
              "    .colab-df-convert:hover {\n",
              "      background-color: #E2EBFA;\n",
              "      box-shadow: 0px 1px 2px rgba(60, 64, 67, 0.3), 0px 1px 3px 1px rgba(60, 64, 67, 0.15);\n",
              "      fill: #174EA6;\n",
              "    }\n",
              "\n",
              "    [theme=dark] .colab-df-convert {\n",
              "      background-color: #3B4455;\n",
              "      fill: #D2E3FC;\n",
              "    }\n",
              "\n",
              "    [theme=dark] .colab-df-convert:hover {\n",
              "      background-color: #434B5C;\n",
              "      box-shadow: 0px 1px 3px 1px rgba(0, 0, 0, 0.15);\n",
              "      filter: drop-shadow(0px 1px 2px rgba(0, 0, 0, 0.3));\n",
              "      fill: #FFFFFF;\n",
              "    }\n",
              "  </style>\n",
              "\n",
              "      <script>\n",
              "        const buttonEl =\n",
              "          document.querySelector('#df-c415a35f-3eea-484a-8265-252dc308e339 button.colab-df-convert');\n",
              "        buttonEl.style.display =\n",
              "          google.colab.kernel.accessAllowed ? 'block' : 'none';\n",
              "\n",
              "        async function convertToInteractive(key) {\n",
              "          const element = document.querySelector('#df-c415a35f-3eea-484a-8265-252dc308e339');\n",
              "          const dataTable =\n",
              "            await google.colab.kernel.invokeFunction('convertToInteractive',\n",
              "                                                     [key], {});\n",
              "          if (!dataTable) return;\n",
              "\n",
              "          const docLinkHtml = 'Like what you see? Visit the ' +\n",
              "            '<a target=\"_blank\" href=https://colab.research.google.com/notebooks/data_table.ipynb>data table notebook</a>'\n",
              "            + ' to learn more about interactive tables.';\n",
              "          element.innerHTML = '';\n",
              "          dataTable['output_type'] = 'display_data';\n",
              "          await google.colab.output.renderOutput(dataTable, element);\n",
              "          const docLink = document.createElement('div');\n",
              "          docLink.innerHTML = docLinkHtml;\n",
              "          element.appendChild(docLink);\n",
              "        }\n",
              "      </script>\n",
              "    </div>\n",
              "  </div>\n",
              "  "
            ]
          },
          "metadata": {},
          "execution_count": 41
        },
        {
          "output_type": "execute_result",
          "data": {
            "text/plain": [
              "          0\n",
              "0  7.745881\n",
              "1  8.200169\n",
              "2  7.745881\n",
              "3  7.295867\n",
              "4  7.295867\n",
              "5  7.295867\n",
              "6  7.295867\n",
              "7  7.295867"
            ],
            "text/html": [
              "\n",
              "  <div id=\"df-4c425633-4fcd-4add-909a-5585ae79c964\">\n",
              "    <div class=\"colab-df-container\">\n",
              "      <div>\n",
              "<style scoped>\n",
              "    .dataframe tbody tr th:only-of-type {\n",
              "        vertical-align: middle;\n",
              "    }\n",
              "\n",
              "    .dataframe tbody tr th {\n",
              "        vertical-align: top;\n",
              "    }\n",
              "\n",
              "    .dataframe thead th {\n",
              "        text-align: right;\n",
              "    }\n",
              "</style>\n",
              "<table border=\"1\" class=\"dataframe\">\n",
              "  <thead>\n",
              "    <tr style=\"text-align: right;\">\n",
              "      <th></th>\n",
              "      <th>0</th>\n",
              "    </tr>\n",
              "  </thead>\n",
              "  <tbody>\n",
              "    <tr>\n",
              "      <th>0</th>\n",
              "      <td>7.745881</td>\n",
              "    </tr>\n",
              "    <tr>\n",
              "      <th>1</th>\n",
              "      <td>8.200169</td>\n",
              "    </tr>\n",
              "    <tr>\n",
              "      <th>2</th>\n",
              "      <td>7.745881</td>\n",
              "    </tr>\n",
              "    <tr>\n",
              "      <th>3</th>\n",
              "      <td>7.295867</td>\n",
              "    </tr>\n",
              "    <tr>\n",
              "      <th>4</th>\n",
              "      <td>7.295867</td>\n",
              "    </tr>\n",
              "    <tr>\n",
              "      <th>5</th>\n",
              "      <td>7.295867</td>\n",
              "    </tr>\n",
              "    <tr>\n",
              "      <th>6</th>\n",
              "      <td>7.295867</td>\n",
              "    </tr>\n",
              "    <tr>\n",
              "      <th>7</th>\n",
              "      <td>7.295867</td>\n",
              "    </tr>\n",
              "  </tbody>\n",
              "</table>\n",
              "</div>\n",
              "      <button class=\"colab-df-convert\" onclick=\"convertToInteractive('df-4c425633-4fcd-4add-909a-5585ae79c964')\"\n",
              "              title=\"Convert this dataframe to an interactive table.\"\n",
              "              style=\"display:none;\">\n",
              "        \n",
              "  <svg xmlns=\"http://www.w3.org/2000/svg\" height=\"24px\"viewBox=\"0 0 24 24\"\n",
              "       width=\"24px\">\n",
              "    <path d=\"M0 0h24v24H0V0z\" fill=\"none\"/>\n",
              "    <path d=\"M18.56 5.44l.94 2.06.94-2.06 2.06-.94-2.06-.94-.94-2.06-.94 2.06-2.06.94zm-11 1L8.5 8.5l.94-2.06 2.06-.94-2.06-.94L8.5 2.5l-.94 2.06-2.06.94zm10 10l.94 2.06.94-2.06 2.06-.94-2.06-.94-.94-2.06-.94 2.06-2.06.94z\"/><path d=\"M17.41 7.96l-1.37-1.37c-.4-.4-.92-.59-1.43-.59-.52 0-1.04.2-1.43.59L10.3 9.45l-7.72 7.72c-.78.78-.78 2.05 0 2.83L4 21.41c.39.39.9.59 1.41.59.51 0 1.02-.2 1.41-.59l7.78-7.78 2.81-2.81c.8-.78.8-2.07 0-2.86zM5.41 20L4 18.59l7.72-7.72 1.47 1.35L5.41 20z\"/>\n",
              "  </svg>\n",
              "      </button>\n",
              "      \n",
              "  <style>\n",
              "    .colab-df-container {\n",
              "      display:flex;\n",
              "      flex-wrap:wrap;\n",
              "      gap: 12px;\n",
              "    }\n",
              "\n",
              "    .colab-df-convert {\n",
              "      background-color: #E8F0FE;\n",
              "      border: none;\n",
              "      border-radius: 50%;\n",
              "      cursor: pointer;\n",
              "      display: none;\n",
              "      fill: #1967D2;\n",
              "      height: 32px;\n",
              "      padding: 0 0 0 0;\n",
              "      width: 32px;\n",
              "    }\n",
              "\n",
              "    .colab-df-convert:hover {\n",
              "      background-color: #E2EBFA;\n",
              "      box-shadow: 0px 1px 2px rgba(60, 64, 67, 0.3), 0px 1px 3px 1px rgba(60, 64, 67, 0.15);\n",
              "      fill: #174EA6;\n",
              "    }\n",
              "\n",
              "    [theme=dark] .colab-df-convert {\n",
              "      background-color: #3B4455;\n",
              "      fill: #D2E3FC;\n",
              "    }\n",
              "\n",
              "    [theme=dark] .colab-df-convert:hover {\n",
              "      background-color: #434B5C;\n",
              "      box-shadow: 0px 1px 3px 1px rgba(0, 0, 0, 0.15);\n",
              "      filter: drop-shadow(0px 1px 2px rgba(0, 0, 0, 0.3));\n",
              "      fill: #FFFFFF;\n",
              "    }\n",
              "  </style>\n",
              "\n",
              "      <script>\n",
              "        const buttonEl =\n",
              "          document.querySelector('#df-4c425633-4fcd-4add-909a-5585ae79c964 button.colab-df-convert');\n",
              "        buttonEl.style.display =\n",
              "          google.colab.kernel.accessAllowed ? 'block' : 'none';\n",
              "\n",
              "        async function convertToInteractive(key) {\n",
              "          const element = document.querySelector('#df-4c425633-4fcd-4add-909a-5585ae79c964');\n",
              "          const dataTable =\n",
              "            await google.colab.kernel.invokeFunction('convertToInteractive',\n",
              "                                                     [key], {});\n",
              "          if (!dataTable) return;\n",
              "\n",
              "          const docLinkHtml = 'Like what you see? Visit the ' +\n",
              "            '<a target=\"_blank\" href=https://colab.research.google.com/notebooks/data_table.ipynb>data table notebook</a>'\n",
              "            + ' to learn more about interactive tables.';\n",
              "          element.innerHTML = '';\n",
              "          dataTable['output_type'] = 'display_data';\n",
              "          await google.colab.output.renderOutput(dataTable, element);\n",
              "          const docLink = document.createElement('div');\n",
              "          docLink.innerHTML = docLinkHtml;\n",
              "          element.appendChild(docLink);\n",
              "        }\n",
              "      </script>\n",
              "    </div>\n",
              "  </div>\n",
              "  "
            ]
          },
          "metadata": {},
          "execution_count": 41
        }
      ]
    },
    {
      "cell_type": "code",
      "source": [
        "# shift train predictions for plotting\n",
        "trainPredictPlot = numpy.empty_like(dataset)\n",
        "trainPredictPlot[:, :] = numpy.nan\n",
        "trainPredictPlot[look_back:len(trainPredict)+look_back, :] = trainPredict\n",
        "# shift test predictions for plotting\n",
        "testPredictPlot = numpy.empty_like(dataset)\n",
        "testPredictPlot[:, :] = numpy.nan\n",
        "testPredictPlot[len(trainPredict)+(look_back*2)+1:len(dataset)-1, :] = testPredict\n",
        "# plot baseline and predictions\n",
        "plt.plot(scaler.inverse_transform(dataset))\n",
        "#plt.plot(trainPredictPlot)\n",
        "#plt.plot(testPredictPlot)\n",
        "#plt.legend(['Train', 'Test'], loc='upper right')\n",
        "plt.plot(trainPredictPlot, label='Train')\n",
        "plt.plot(testPredictPlot,label='Test')\n",
        "plt.ylabel('Price')\n",
        "plt.legend(loc='upper right')\n",
        "plt.show()"
      ],
      "metadata": {
        "colab": {
          "base_uri": "https://localhost:8080/",
          "height": 300
        },
        "id": "ZG01V2w0UkbL",
        "outputId": "a5fa4238-cf36-4a66-ba5c-12d2c2989aca"
      },
      "execution_count": null,
      "outputs": [
        {
          "output_type": "execute_result",
          "data": {
            "text/plain": [
              "[<matplotlib.lines.Line2D at 0x7f09b8f26e50>]"
            ]
          },
          "metadata": {},
          "execution_count": 18
        },
        {
          "output_type": "execute_result",
          "data": {
            "text/plain": [
              "[<matplotlib.lines.Line2D at 0x7f09b68e7ed0>]"
            ]
          },
          "metadata": {},
          "execution_count": 18
        },
        {
          "output_type": "execute_result",
          "data": {
            "text/plain": [
              "[<matplotlib.lines.Line2D at 0x7f09b68fc410>]"
            ]
          },
          "metadata": {},
          "execution_count": 18
        },
        {
          "output_type": "execute_result",
          "data": {
            "text/plain": [
              "Text(0, 0.5, 'Price')"
            ]
          },
          "metadata": {},
          "execution_count": 18
        },
        {
          "output_type": "execute_result",
          "data": {
            "text/plain": [
              "<matplotlib.legend.Legend at 0x7f09b68fc290>"
            ]
          },
          "metadata": {},
          "execution_count": 18
        },
        {
          "output_type": "display_data",
          "data": {
            "text/plain": [
              "<Figure size 432x288 with 1 Axes>"
            ],
            "image/png": "[encoded data removed]"
          },
          "metadata": {
            "needs_background": "light"
          }
        }
      ]
    }
  ]
}